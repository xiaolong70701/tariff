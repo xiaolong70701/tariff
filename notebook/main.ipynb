{
 "cells": [
  {
   "cell_type": "code",
   "execution_count": 71,
   "id": "81336eff",
   "metadata": {},
   "outputs": [],
   "source": [
    "# import pandas as pd\n",
    "# import numpy as np\n",
    "# import matplotlib.pyplot as plt\n",
    "# import statsmodels.api as sm\n",
    "\n",
    "# # === 1. Load and prepare data ===\n",
    "# df = pd.read_stata(\"../data/raw/pwt1001.dta\")\n",
    "# tw = df.query(\"countrycode == 'TWN' & year.between(1951, 2014)\").copy()\n",
    "# tw.loc[tw[\"pl_gdpo\"] == 0, \"pl_gdpo\"] = np.nan\n",
    "\n",
    "# # === 2. Compute log(RER) and log(GDP per capita) ===\n",
    "# tw[\"log_rer\"] = -np.log(tw[\"pl_gdpo\"])  # or log(xr / ppp)\n",
    "# tw[\"log_rgdpo_pc\"] = np.log(tw[\"rgdpo\"] / tw[\"pop\"])\n",
    "\n",
    "# # Drop missing values\n",
    "# tw = tw[np.isfinite(tw[[\"log_rer\", \"log_rgdpo_pc\"]]).all(axis=1)].copy()\n",
    "\n",
    "# # === 3. Fit regression & predict log(RER) ===\n",
    "# X = sm.add_constant(tw[\"log_rgdpo_pc\"])\n",
    "# y = tw[\"log_rer\"]\n",
    "# ols = sm.OLS(y, X).fit(cov_type=\"HAC\", cov_kwds={\"maxlags\": 1})\n",
    "\n",
    "# tw[\"log_rer_hat\"] = ols.predict(X)  # log(ŔER_t)\n",
    "# tw[\"log_uval\"] = tw[\"log_rer\"] - tw[\"log_rer_hat\"]\n",
    "\n",
    "# # === 4. Plot: Rodrik undervaluation index ===\n",
    "# fig, ax = plt.subplots(figsize=(8, 4))\n",
    "# ax.plot(tw[\"year\"], tw[\"log_uval\"], label=\"log(UVAL$_t$)\", linewidth=2)\n",
    "# ax.axhline(0, linestyle=\"--\", color=\"gray\", linewidth=1)\n",
    "# ax.axvspan(1998, 2010, color=\"gray\", alpha=0.2)\n",
    "# ax.set_title(\"Undervaluation Index: log(UVAL$_t$) = log(RER$_t$) - log(ŔER$_t$)\", fontsize=12)\n",
    "# ax.set_ylabel(\"log(UVAL$_t$)\")\n",
    "# ax.set_xlim(1951, 2014)\n",
    "# ax.legend()\n",
    "# plt.tight_layout()\n",
    "# plt.show()\n"
   ]
  },
  {
   "cell_type": "code",
   "execution_count": 96,
   "id": "0aa32ad2",
   "metadata": {},
   "outputs": [],
   "source": [
    "import pandas as pd\n",
    "import numpy as np\n",
    "import matplotlib.pyplot as plt\n",
    "import statsmodels.api as sm\n",
    "\n",
    "pwt_df = pd.read_stata(\"../data/raw/pwt1001.dta\")\n",
    "\n",
    "id_vars = ['country', 'year']\n",
    "pwt_df = pd.melt(pwt_df, id_vars=id_vars, var_name=\"variable\", value_name=\"value\")\n",
    "pwt_df = pwt_df.rename(columns={'country': 'Country Name', 'year': 'Year'})\n",
    "pwt_plgdpo = pwt_df[pwt_df['variable'] == 'pl_gdpo'][['Country Name', 'Year', 'value']].rename(columns={'value': 'pl_gdpo'})\n",
    "pwt_rgdpo = pwt_df[pwt_df['variable'] == 'rgdpo'][['Country Name', 'Year', 'value']].rename(columns={'value': 'rgdpo'})\n",
    "pwt_pop = pwt_df[pwt_df['variable'] == 'pop'][['Country Name', 'Year', 'value']].rename(columns={'value': 'pop'})\n",
    "pwt_xr = pwt_df[pwt_df['variable'] == 'xr'][['Country Name', 'Year', 'value']].rename(columns={'value': 'xr'})"
   ]
  }
 ],
 "metadata": {
  "kernelspec": {
   "display_name": "Python 3",
   "language": "python",
   "name": "python3"
  },
  "language_info": {
   "codemirror_mode": {
    "name": "ipython",
    "version": 3
   },
   "file_extension": ".py",
   "mimetype": "text/x-python",
   "name": "python",
   "nbconvert_exporter": "python",
   "pygments_lexer": "ipython3",
   "version": "3.10.11"
  }
 },
 "nbformat": 4,
 "nbformat_minor": 5
}
